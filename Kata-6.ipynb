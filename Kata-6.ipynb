{
  "cells": [
    {
      "cell_type": "markdown",
      "metadata": {},
      "source": [
        "# Ejercicio 1:\n"
      ]
    },
    {
      "cell_type": "code",
      "execution_count": 3,
      "metadata": {},
      "outputs": [
        {
          "data": {
            "text/plain": [
              "['Mercurio',\n",
              " 'Venus',\n",
              " 'Tierra',\n",
              " 'Marte',\n",
              " 'Júpiter',\n",
              " 'Saturno',\n",
              " 'Urano',\n",
              " 'Neptuno']"
            ]
          },
          "execution_count": 3,
          "metadata": {},
          "output_type": "execute_result"
        }
      ],
      "source": [
        "# Creamos la lista planets y la mostramos\n",
        "planetas=['Mercurio', 'Venus', 'Tierra', 'Marte', 'Júpiter', 'Saturno', 'Urano','Neptuno']\n",
        "planetas"
      ]
    },
    {
      "cell_type": "code",
      "execution_count": 13,
      "metadata": {},
      "outputs": [
        {
          "name": "stdout",
          "output_type": "stream",
          "text": [
            "Hay 9 planetas si inlcuimos a Plutón\n"
          ]
        }
      ],
      "source": [
        "# Agregamos a plutón y mostramos el último elemento\n",
        "planetas.append('Plutón')\n",
        "num=len(planetas)\n",
        "print(f'Hay {num} planetas si inlcuimos a {planetas[8]}')"
      ]
    },
    {
      "cell_type": "markdown",
      "metadata": {},
      "source": [
        "## Ejercicio 2:"
      ]
    },
    {
      "cell_type": "code",
      "execution_count": null,
      "metadata": {},
      "outputs": [],
      "source": [
        "# Lista de planetas\n",
        "planets = ['Mercury', 'Venus', 'Earth', 'Mars', 'Jupiter', 'Saturn', 'Neptune']"
      ]
    },
    {
      "cell_type": "code",
      "execution_count": 14,
      "metadata": {},
      "outputs": [],
      "source": [
        "# Solicitamos el nombre de un planeta *Pista:  input()*\n",
        "Name_planet=input('Escribe el nombre del planeta, la primera letra en mayúscula:')"
      ]
    },
    {
      "cell_type": "code",
      "execution_count": 17,
      "metadata": {},
      "outputs": [
        {
          "name": "stdout",
          "output_type": "stream",
          "text": [
            "Júpiter esta en el lugar 4 de la lista en cuanto a cercanía al Sol.\n"
          ]
        }
      ],
      "source": [
        "# Busca el planeta en la lista\n",
        "c=planetas.index(Name_planet)\n",
        "\n",
        "print(f'{Name_planet} esta en el lugar {c} de la lista en cuanto a cercanía al Sol.')"
      ]
    },
    {
      "cell_type": "code",
      "execution_count": 34,
      "metadata": {},
      "outputs": [
        {
          "name": "stdout",
          "output_type": "stream",
          "text": [
            "Júpiter esta en el lugar 5 de la lista en cuanto a cercanía al Sol,\n",
            " puedes verlo en la siguiente lista: ['Mercurio', 'Venus', 'Tierra', 'Marte', 'Júpiter']\n"
          ]
        }
      ],
      "source": [
        "# Muestra los planetas más cercanos al sol\n",
        "print(f'{Name_planet} esta en el lugar {c+1} de la lista en cuanto a cercanía al Sol,\\n puedes verlo en la siguiente lista: {planetas[0:c+1]}')"
      ]
    },
    {
      "cell_type": "code",
      "execution_count": 33,
      "metadata": {},
      "outputs": [
        {
          "name": "stdout",
          "output_type": "stream",
          "text": [
            "Júpiter esta en el lugar 4 de la lista en cuanto a cercanía al Sol,\n",
            "puedes ver en la siguiente lista los planetas que siguen después:\n",
            "['Saturno', 'Urano', 'Neptuno', 'Plutón']\n"
          ]
        }
      ],
      "source": [
        "# Muestra los planetas más lejanos al sol\n",
        "print(f'{Name_planet} esta en el lugar {c} de la lista en cuanto a cercanía al Sol,\\npuedes ver en la siguiente lista los planetas que siguen después:\\n{planetas[c+1:]}')"
      ]
    }
  ],
  "metadata": {
    "interpreter": {
      "hash": "b8bdd4e700647ba2b08c59e5df8b7da1dcf50a218bcd4c1bcd9b3dc92e8788e5"
    },
    "kernelspec": {
      "display_name": "Python 3.9.1 64-bit",
      "name": "python3"
    },
    "language_info": {
      "codemirror_mode": {
        "name": "ipython",
        "version": 3
      },
      "file_extension": ".py",
      "mimetype": "text/x-python",
      "name": "python",
      "nbconvert_exporter": "python",
      "pygments_lexer": "ipython3",
      "version": "3.9.7"
    },
    "nteract": {
      "version": "nteract-front-end@1.0.0"
    }
  },
  "nbformat": 4,
  "nbformat_minor": 4
}
