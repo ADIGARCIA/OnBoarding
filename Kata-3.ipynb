{
 "cells": [
  {
   "cell_type": "markdown",
   "metadata": {},
   "source": [
    "# Ejercicio 1:"
   ]
  },
  {
   "cell_type": "code",
   "execution_count": 1,
   "metadata": {},
   "outputs": [
    {
     "name": "stdout",
     "output_type": "stream",
     "text": [
      "°°°¡Un asteroide se acerca a la Tierra!°°°\n"
     ]
    }
   ],
   "source": [
    "# Añadir el código necesario para crear una variable que guarde la velocidad del asteroide.\n",
    "# Escribe una expresión de prueba para calcular si necesita una advertencia.\n",
    "# Agregue las instrucciones que se ejecutarán si la expresión de prueba es true o false.\n",
    "a=49\n",
    "if a>25:\n",
    "    print('°°°¡Un asteroide se acerca a la Tierra!°°°')"
   ]
  },
  {
   "cell_type": "markdown",
   "metadata": {},
   "source": [
    "# Ejercicio 2:"
   ]
  },
  {
   "cell_type": "code",
   "execution_count": 2,
   "metadata": {},
   "outputs": [
    {
     "name": "stdout",
     "output_type": "stream",
     "text": [
      "¡No se uede apreciar el rayo de luz del aiteroide!\n"
     ]
    }
   ],
   "source": [
    "# Agrega el código para crear una variable para un asteroide que viaja a 19 km/s\n",
    "# Escribe varias expresiones de prueba para determinar si puedes ver el rayo de luz desde la tierra\n",
    "# Agrega las instrucciones que se ejecutarán si las expresiones de prueba son True o False\n",
    "d=19\n",
    "if d >20:\n",
    "    print('¡Se puede apreciar el rayo de luz del asteroide!')\n",
    "elif d==20:\n",
    "    print('¡Se puede apreciar el rayo de luz del asteroide!')\n",
    "else:\n",
    "    print('No se puede apreciar el rayo de luz del asteroide')\n"
   ]
  },
  {
   "cell_type": "markdown",
   "metadata": {},
   "source": [
    "# Ejercicio 3:"
   ]
  },
  {
   "cell_type": "code",
   "execution_count": 3,
   "metadata": {},
   "outputs": [
    {
     "name": "stdout",
     "output_type": "stream",
     "text": [
      "Puede apreciarse su rayo de luz\n"
     ]
    }
   ],
   "source": [
    "# Agrega el código para crear nuevas variables para la velocidad y el tamaño del asteroide\n",
    "# Para probar el código, prueba con varias velocidades y tamaños\n",
    "# Escribe varias expresiones de prueba o combinaciones de expresiones de prueba para determinar qué mensaje se debe enviar a Tierra.\n",
    "\n",
    "\n",
    "dimension=25\n",
    "velocidad=20\n",
    "\n",
    "if dimension >25 and velocidad >=25:\n",
    "        print('El asteroide es peligroso')  \n",
    "\n",
    "elif velocidad >=20:\n",
    "        print('Puede apreciarse el rayo de luz del asteroide')\n",
    "elif dimension <25:\n",
    "        print('El asteroide no causara daño')\n",
    "else:\n",
    "    print('El asteroide es inofensivo')\n",
    "         \n",
    "   \n"
   ]
  }
 ],
 "metadata": {
  "interpreter": {
   "hash": "692538ca149de39b6aae091d68c01522d03550818119c0a9cfde2720a96f7beb"
  },
  "kernelspec": {
   "display_name": "Python 3.9.7 64-bit",
   "language": "python",
   "name": "python3"
  },
  "language_info": {
   "codemirror_mode": {
    "name": "ipython",
    "version": 3
   },
   "file_extension": ".py",
   "mimetype": "text/x-python",
   "name": "python",
   "nbconvert_exporter": "python",
   "pygments_lexer": "ipython3",
   "version": "3.9.7"
  },
  "orig_nbformat": 4
 },
 "nbformat": 4,
 "nbformat_minor": 2
}
