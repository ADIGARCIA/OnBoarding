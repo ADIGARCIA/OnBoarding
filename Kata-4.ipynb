{
  "cells": [
    {
      "cell_type": "markdown",
      "metadata": {},
      "source": [
        "# Ejercicio 1: "
      ]
    },
    {
      "cell_type": "code",
      "execution_count": 3,
      "metadata": {},
      "outputs": [
        {
          "name": "stdout",
          "output_type": "stream",
          "text": [
            "Interesting facts about the Moon. The Moon is Earth's only satellite. There are several interesting facts about the Moon and how it affects life here on Earth. \n",
            "On average, the Moon moves 4cm away from the Earth every year. This yearly drift is not significant enough to cause immediate effects on Earth. The highest daylight temperature of the Moon is 127 C.\n"
          ]
        }
      ],
      "source": [
        "text = \"\"\"Interesting facts about the Moon. The Moon is Earth's only satellite. There are several interesting facts about the Moon and how it affects life here on Earth. \n",
        "On average, the Moon moves 4cm away from the Earth every year. This yearly drift is not significant enough to cause immediate effects on Earth. The highest daylight temperature of the Moon is 127 C.\"\"\"\n",
        "print(text)"
      ]
    },
    {
      "cell_type": "code",
      "execution_count": 3,
      "metadata": {},
      "outputs": [
        {
          "name": "stdout",
          "output_type": "stream",
          "text": [
            "['Interesting facts about the Moon', \" The Moon is Earth's only satellite\", ' There are several interesting facts about the Moon and how it affects life here on Earth', ' \\nOn average, the Moon moves 4cm away from the Earth every year', ' This yearly drift is not significant enough to cause immediate effects on Earth', ' The highest daylight temperature of the Moon is 127 C', '']\n"
          ]
        }
      ],
      "source": [
        "# Añade el código necesario\n",
        "text = \"\"\"Interesting facts about the Moon. The Moon is Earth's only satellite. There are several interesting facts about the Moon and how it affects life here on Earth. \n",
        "On average, the Moon moves 4cm away from the Earth every year. This yearly drift is not significant enough to cause immediate effects on Earth. The highest daylight temperature of the Moon is 127 C.\"\"\"\n",
        "text0 =text.split('.')\n",
        "print(text0)"
      ]
    },
    {
      "cell_type": "code",
      "execution_count": 6,
      "metadata": {},
      "outputs": [],
      "source": [
        "# Define las palabras pista: average, temperature y distance suenan bien\n",
        "key_word=['average','temperature','distance','moves']"
      ]
    },
    {
      "cell_type": "code",
      "execution_count": 28,
      "metadata": {},
      "outputs": [
        {
          "name": "stdout",
          "output_type": "stream",
          "text": [
            " On average, the Moon moves 4cm away from the Earth every year\n",
            " The highest daylight temperature of the Moon is 127 C\n"
          ]
        }
      ],
      "source": [
        "# Ciclo for para recorrer la cadena\n",
        "text = \"\"\"Interesting facts about the Moon. The Moon is Earth's only satellite. There are several interesting facts about the Moon and how it affects life here on Earth. On average, the Moon moves 4cm away from the Earth every year. This yearly drift is not significant enough to cause immediate effects on Earth. The highest daylight temperature of the Moon is 127 C.\"\"\"\n",
        "\n",
        "for item in text.split('.'):\n",
        "    if item.find('average')!=-1:\n",
        "            print(item)\n",
        "    elif item.find('temperature')!=-1:\n",
        "            print(item)\n",
        "    elif item.find('distance')!=-1:\n",
        "            print(item)\n",
        "    elif item.find('moves')!=-1:\n",
        "            print(item)\n",
        "\n"
      ]
    },
    {
      "cell_type": "markdown",
      "metadata": {},
      "source": [
        "Finalmente, actualiza el bucle(ciclo) para cambiar _C_ a _Celsius_:"
      ]
    },
    {
      "cell_type": "code",
      "execution_count": 35,
      "metadata": {},
      "outputs": [
        {
          "name": "stdout",
          "output_type": "stream",
          "text": [
            "Interesting facts about the Moon.\n",
            " The Moon is Earth's only satellite.\n",
            " There are several interesting facts about the Moon and how it affects life here on Earth.\n",
            " On average, the Moon moves 4cm away from the Earth every year.\n",
            " This yearly drift is not significant enough to cause immediate effects on Earth.\n",
            " The highest daylight temperature of the Moon is 127 Celsius.\n",
            ".\n",
            "\n"
          ]
        }
      ],
      "source": [
        "# Ciclo para cambiar C a Celsius\n",
        "text = \"\"\"Interesting facts about the Moon. The Moon is Earth's only satellite. There are several interesting facts about the Moon and how it affects life here on Earth. On average, the Moon moves 4cm away from the Earth every year. This yearly drift is not significant enough to cause immediate effects on Earth. The highest daylight temperature of the Moon is 127 C.\"\"\"\n",
        "text0=''\n",
        "for item in text.split('.'):\n",
        "    if item.find('C')!=-1:\n",
        "        item=item.replace('C', 'Celsius')\n",
        "    text0=text0+item+'.'+'\\n'\n",
        "print(text0)\n",
        "\n",
        "\n",
        "\n"
      ]
    },
    {
      "cell_type": "markdown",
      "metadata": {},
      "source": [
        "# Ejercicio 2: "
      ]
    },
    {
      "cell_type": "code",
      "execution_count": null,
      "metadata": {},
      "outputs": [],
      "source": [
        "# Datos con los que vas a trabajar\n",
        "name = \"Moon\"\n",
        "gravity = 0.00162 # in kms\n",
        "planet = \"Earth\""
      ]
    },
    {
      "cell_type": "code",
      "execution_count": 53,
      "metadata": {},
      "outputs": [
        {
          "name": "stdout",
          "output_type": "stream",
          "text": [
            "Gravity facts about the MOON\n",
            "---------------------------------\n"
          ]
        }
      ],
      "source": [
        "# Creamos el título\n",
        "name = \"Moon\"\n",
        "gravity = 0.00162 # in kms\n",
        "planet = \"Earth\"\n",
        "N=name.title().upper()\n",
        "print('Gravity facts about the '+N+'\\n---------------------------------')"
      ]
    },
    {
      "cell_type": "code",
      "execution_count": 55,
      "metadata": {},
      "outputs": [
        {
          "name": "stdout",
          "output_type": "stream",
          "text": [
            "Gravity facts about the MOON\n",
            "------------------------------------------------\n",
            "Planet Name: Earth\n",
            "Gravity on Moon: 1.6199999999999999 m/s2\n"
          ]
        }
      ],
      "source": [
        "# Creamos la plantilla\n",
        "name = \"Moon\"\n",
        "gravity = 0.00162 # in kms\n",
        "planet = \"Earth\"\n",
        "N=name.title().upper()\n",
        "print('Gravity facts about the '+N+'\\n------------------------------------------------')\n",
        "print(f'''Planet Name: {planet}\n",
        "Gravity on {name}: {gravity*1000} m/s2''')"
      ]
    },
    {
      "cell_type": "code",
      "execution_count": 7,
      "metadata": {},
      "outputs": [
        {
          "name": "stdout",
          "output_type": "stream",
          "text": [
            "Gravity facts about MOON\n",
            "------------------------------------------------\n",
            "Planet Name: Earth\n",
            "Gravity on Moon: 1.6199999999999999 m/s2\n"
          ]
        }
      ],
      "source": [
        "# Unión de ambas cadenas\n",
        "name = \"Moon\"\n",
        "gravity = 0.00162 # in kms\n",
        "planet = \"Earth\"\n",
        "\n",
        "print(f'''Gravity facts about {name.title().upper()}\n",
        "------------------------------------------------\n",
        "Planet Name: {planet}\n",
        "Gravity on {name}: {gravity*1000} m/s2''')"
      ]
    },
    {
      "cell_type": "code",
      "execution_count": 51,
      "metadata": {},
      "outputs": [
        {
          "name": "stdout",
          "output_type": "stream",
          "text": [
            "Gravity facts about GANÍMIDES\n",
            "------------------------------------------------\n",
            "Planet Name: Marte\n",
            "Gravity on Ganímides: 1.4300000000000002 m/s2\n"
          ]
        }
      ],
      "source": [
        "# Comprueba la plantilla\n",
        "Planeta='Marte'\n",
        "gravedad=0.00143\n",
        "nombre='Ganímides'\n",
        "# print(nombre_plantilla)\n",
        "print(f'''Gravity facts about {nombre.title().upper()}\n",
        "------------------------------------------------\n",
        "Planet Name: {Planeta}\n",
        "Gravity on {nombre}: {gravedad*1000} m/s2''')"
      ]
    },
    {
      "cell_type": "code",
      "execution_count": 50,
      "metadata": {},
      "outputs": [
        {
          "name": "stdout",
          "output_type": "stream",
          "text": [
            "Gravity facts about Ganímides\n",
            "------------------------------------------------\n",
            "Planet Name: Marte\n",
            "Gravity on Ganímides: 0.00143 m/s2\n"
          ]
        }
      ],
      "source": [
        "# Nueva plantilla\n",
        "print('''Gravity facts about {nombre}\n",
        "------------------------------------------------\n",
        "Planet Name: {Planeta}\n",
        "Gravity on {nombre}: {gravedad} m/s2'''.format(Planeta= Planeta,nombre=nombre,gravedad=0.00143))"
      ]
    },
    {
      "cell_type": "code",
      "execution_count": 49,
      "metadata": {},
      "outputs": [
        {
          "name": "stdout",
          "output_type": "stream",
          "text": [
            "Gravity facts about Ganímides\n",
            "------------------------------------------------\n",
            "Planet Name: Marte\n",
            "Gravity on Ganímides: 1.4300000000000002 m/s2\n"
          ]
        }
      ],
      "source": [
        "# Pista: print(nueva_plantilla.format(variables))\n",
        "\n",
        "print('''Gravity facts about {nombre}\n",
        "------------------------------------------------\n",
        "Planet Name: {Planeta}\n",
        "Gravity on {nombre}: {gravedad} m/s2'''.format(Planeta= Planeta, nombre=nombre, gravedad= 1000*gravedad))"
      ]
    }
  ],
  "metadata": {
    "interpreter": {
      "hash": "502cd6c3b6c9e666d195e1caff9d64ea12bf644e547a4c8fae84812082c54b6f"
    },
    "kernel_info": {
      "name": "conda-env-py37_default-py"
    },
    "kernelspec": {
      "display_name": "py37_default",
      "language": "python",
      "name": "python3"
    },
    "language_info": {
      "codemirror_mode": {
        "name": "ipython",
        "version": 3
      },
      "file_extension": ".py",
      "mimetype": "text/x-python",
      "name": "python",
      "nbconvert_exporter": "python",
      "pygments_lexer": "ipython3",
      "version": "3.9.7"
    },
    "nteract": {
      "version": "nteract-front-end@1.0.0"
    },
    "orig_nbformat": 4
  },
  "nbformat": 4,
  "nbformat_minor": 2
}
