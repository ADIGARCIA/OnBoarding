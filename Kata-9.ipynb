{
  "cells": [
    {
      "cell_type": "markdown",
      "metadata": {},
      "source": [
        "## Ejercicio 1: "
      ]
    },
    {
      "cell_type": "code",
      "execution_count": 9,
      "metadata": {},
      "outputs": [],
      "source": [
        "# Función para leer 3 tanques de combustible y muestre el promedio\n",
        "def total_fuel(fuel_1,fuel_2,fuel_3):\n",
        "    return(fuel_1,fuel_2,fuel_3)\n",
        "    \n"
      ]
    },
    {
      "cell_type": "code",
      "execution_count": 14,
      "metadata": {},
      "outputs": [
        {
          "name": "stdout",
          "output_type": "stream",
          "text": [
            "Fuel levels:\n",
            "(0, 0, 0)\n"
          ]
        }
      ],
      "source": [
        "\n",
        "# Llamamos a la función que genera el reporte print(funcion(tanque1, tanque2, tanque3))\n",
        "print(f'''Fuel levels:\n",
        "{total_fuel(0,0,0)}''')"
      ]
    },
    {
      "cell_type": "code",
      "execution_count": null,
      "metadata": {},
      "outputs": [],
      "source": [
        "# Función promedio \n",
        "def Average_fuel(total_fuel):\n",
        "    for fuel in total_fuel.values():\n",
        "        total=sum(fuel)\n",
        "    totals_tanks=len(total_fuel)\n",
        "    print(f'Average fuel: {total/totals_tanks}')\n"
      ]
    },
    {
      "cell_type": "code",
      "execution_count": 25,
      "metadata": {},
      "outputs": [
        {
          "name": "stdout",
          "output_type": "stream",
          "text": [
            "Fuel report:\n",
            "Fuel levels: [10, 2, 3]%\n",
            "Average fuel: 5.0\n"
          ]
        }
      ],
      "source": [
        "# Actualiza la función\n",
        "def total_fuel(fuel_1,fuel_2,fuel_3):\n",
        "    tanks=[fuel_1,fuel_2, fuel_3]\n",
        "    total=sum(tanks)\n",
        "    totals_tanks=len(tanks)\n",
        "    print(f'''Fuel report:\n",
        "Fuel levels: {tanks}%\n",
        "Average fuel: {total/totals_tanks}''')\n",
        "\n",
        "\n",
        "total_fuel(10,2,3)"
      ]
    },
    {
      "cell_type": "markdown",
      "metadata": {},
      "source": [
        "## Ejercicio 2:"
      ]
    },
    {
      "cell_type": "code",
      "execution_count": 28,
      "metadata": {},
      "outputs": [
        {
          "name": "stdout",
          "output_type": "stream",
          "text": [
            "Rocket report:\n",
            "Destination: moon\n",
            "Travel time: 14\n",
            "Flay time: 15\n",
            "Out thhank: 200000\n",
            "In thank: 300000\n"
          ]
        }
      ],
      "source": [
        "# Función con un informe preciso de la misión. Considera hora de prelanzamiento, tiempo de vuelo, destino, tanque externo y tanque interno\n",
        "def rocket_report(destination,time_move,time_flay,out_thank,in_thank):\n",
        "    print(f'''Rocket report:\n",
        "Destination: {destination}\n",
        "Travel time: {time_move}\n",
        "Flay time: {time_flay}\n",
        "Out thhank: {out_thank}\n",
        "In thank: {in_thank}''')\n",
        "rocket_report('moon',14,15,200000,300000)"
      ]
    },
    {
      "cell_type": "code",
      "execution_count": 30,
      "metadata": {},
      "outputs": [
        {
          "name": "stdout",
          "output_type": "stream",
          "text": [
            "Rocket report:\n",
            "Destination:moon\n",
            "Total time: 65\n",
            "Total Fuel: 500000\n"
          ]
        }
      ],
      "source": [
        "# Escribe tu nueva función de reporte considerando lo anterior\n",
        "def rocket_report(destination,*rocket_time,**rocket_fuels):\n",
        "    print(f'''Rocket report:\n",
        "Destination:{destination}\n",
        "Total time: {sum(rocket_time)}\n",
        "Total Fuel: {sum(rocket_fuels.values())}''')\n",
        "rocket_report('moon',14,51,out=200000, iin=300000)"
      ]
    },
    {
      "cell_type": "code",
      "execution_count": 37,
      "metadata": {},
      "outputs": [
        {
          "data": {
            "text/plain": [
              "'Rocket report:\\n    Destination:moon\\n    Total time: 65 min\\n    Total Fuel: 500000\\n    out thank: 200000 gallons\\niin thank: 300000 gallons\\n'"
            ]
          },
          "execution_count": 37,
          "metadata": {},
          "output_type": "execute_result"
        }
      ],
      "source": [
        "# Escribe tu nueva función\n",
        "def rocket_report(destination,*rocket_time,**rocket_fuels):\n",
        "    printed = f\"\"\"Rocket report:\n",
        "    Destination:{destination}\n",
        "    Total time: {sum(rocket_time)} min\n",
        "    Total Fuel: {sum(rocket_fuels.values())}\n",
        "    \"\"\"\n",
        "    for tankk, content in rocket_fuels.items():\n",
        "        printed += f\"{tankk} thank: {content} gallons\\n\"\n",
        "    return printed\n",
        "\n",
        "rocket_report('moon',14,51,out=200000, iin=300000)\n"
      ]
    }
  ],
  "metadata": {
    "interpreter": {
      "hash": "205095b8b86ea82a021a8fc2ffba2b3bc9f8d0be25999901963b225939f75778"
    },
    "kernelspec": {
      "display_name": "Python 3.8.10 64-bit ('tmp': conda)",
      "name": "python3"
    },
    "language_info": {
      "codemirror_mode": {
        "name": "ipython",
        "version": 3
      },
      "file_extension": ".py",
      "mimetype": "text/x-python",
      "name": "python",
      "nbconvert_exporter": "python",
      "pygments_lexer": "ipython3",
      "version": "3.9.7"
    },
    "nteract": {
      "version": "nteract-front-end@1.0.0"
    },
    "orig_nbformat": 4
  },
  "nbformat": 4,
  "nbformat_minor": 2
}
